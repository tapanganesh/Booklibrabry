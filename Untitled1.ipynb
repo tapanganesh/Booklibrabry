{
 "cells": [
  {
   "cell_type": "code",
   "execution_count": 18,
   "metadata": {},
   "outputs": [
    {
     "name": "stderr",
     "output_type": "stream",
     "text": [
      "Exception in thread Thread-17:\n",
      "Traceback (most recent call last):\n",
      "  File \"C:\\Users\\ksdee\\anaconda3\\lib\\threading.py\", line 932, in _bootstrap_inner\n",
      "    self.run()\n",
      "  File \"C:\\Users\\ksdee\\anaconda3\\lib\\threading.py\", line 870, in run\n",
      "    self._target(*self._args, **self._kwargs)\n",
      "  File \"C:\\Users\\ksdee\\anaconda3\\lib\\site-packages\\tkPDFViewer\\tkPDFViewer.py\", line 61, in add_img\n",
      "    self.text.image_create(END,image=i)\n",
      "  File \"C:\\Users\\ksdee\\anaconda3\\lib\\tkinter\\__init__.py\", line 3723, in image_create\n",
      "    return self.tk.call(\n",
      "_tkinter.TclError: image \"pyimage1\" doesn't exist\n"
     ]
    }
   ],
   "source": [
    "from tkinter import*\n",
    "from tkPDFViewer import tkPDFViewer as pdf\n",
    "root = Tk()\n",
    "root.geometry(\"550x750\")\n",
    "v1 = pdf.ShowPdf()\n",
    "v2 = v1.pdf_view(root,\n",
    "                 pdf_location = r\"/Users/ksdee/Downloads/Unit-1-Wave-Optics-Notes.pdf\", \n",
    "                 width = 120, height = 100)\n",
    "v2.pack()\n",
    "root.mainloop()"
   ]
  },
  {
   "cell_type": "code",
   "execution_count": null,
   "metadata": {},
   "outputs": [],
   "source": []
  }
 ],
 "metadata": {
  "kernelspec": {
   "display_name": "Python 3",
   "language": "python",
   "name": "python3"
  },
  "language_info": {
   "codemirror_mode": {
    "name": "ipython",
    "version": 3
   },
   "file_extension": ".py",
   "mimetype": "text/x-python",
   "name": "python",
   "nbconvert_exporter": "python",
   "pygments_lexer": "ipython3",
   "version": "3.8.5"
  }
 },
 "nbformat": 4,
 "nbformat_minor": 4
}
