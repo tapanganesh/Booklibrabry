{
 "cells": [
  {
   "cell_type": "code",
   "execution_count": 1,
   "id": "deb0d910",
   "metadata": {},
   "outputs": [],
   "source": [
    "import cv2 \n",
    "import pytesseract\n",
    "from nltk.tokenize import word_tokenize\n",
    "from spellchecker import SpellChecker\n",
    "import nltk\n",
    "from nltk.metrics.distance  import edit_distance\n",
    "from nltk.corpus import stopwords\n",
    "from pdf2image import convert_from_path\n",
    "from PIL import Image\n",
    "import pytesseract\n",
    "import sys\n",
    "from pdf2image import convert_from_path\n",
    "import os\n",
    "import PIL.Image"
   ]
  },
  {
   "cell_type": "code",
   "execution_count": 2,
   "id": "6481090e",
   "metadata": {},
   "outputs": [],
   "source": [
    "def pdf_word_extract(open_file):\n",
    "    images = convert_from_path(open_file)\n",
    "\n",
    "    for i in range(len(images)):\n",
    "        images[i].save('page'+ str(i) +'.jpg', 'JPEG')\n",
    "\n",
    "    lister=[]\n",
    "    answer=[]\n",
    "    for i in range(0, len(images)):\n",
    "        filename = \"page\"+str(i)+\".jpg\"\n",
    "\n",
    "        text = str(((pytesseract.image_to_string(PIL.Image.open(filename)))))\n",
    "        text = text.replace('-\\n', '')    \n",
    "\n",
    "        lister=word_tokenize(text)\n",
    "        answer=answer+lister\n",
    "\n",
    "\n",
    "    solution=[]\n",
    "    punc=[\"(\",\")\",\".\",\",\",\"[\",\"]\",\"-\",\":\",\";\",\"’\",\" \",\"\",''] \n",
    "    stop_words=stopwords.words('english')\n",
    "    solution=[word.lower() for word in answer if not word.lower() in stop_words and not word in punc]\n",
    "    return solution"
   ]
  },
  {
   "cell_type": "code",
   "execution_count": 3,
   "id": "5b34b741",
   "metadata": {},
   "outputs": [],
   "source": [
    "from tkinter import *\n",
    "import PyPDF2\n",
    "from tkinter import filedialog\n",
    "\n",
    "root = Tk()\n",
    "root.title(\"PDF Reader!!\")\n",
    "root.geometry(\"200x200\")\n",
    "\n",
    "my_text = Text(root,height = 30,width = 60)\n",
    "my_text.pack(pady=10)\n",
    "\n",
    "def clear_text_box():\n",
    "    my_text.delete(1.0,END)\n",
    "    \n",
    "def open_pdf():\n",
    "    open_file = filedialog.askopenfilename(\n",
    "        initialdir=\"/Users/gauthammallipeddi/Docs/College/II-I/DBMS/\",\n",
    "        title = \"Open PDF file\",\n",
    "        filetypes = (\n",
    "        (\"PDF Files\",\"*.pdf\"),\n",
    "        (\"All Files\",\".\")))\n",
    "    if open_file:\n",
    "        page_stuff = pdf_word_extract(open_file)\n",
    "        my_text.insert(1.0,page_stuff)\n",
    "\n",
    "my_menu = Menu(root)\n",
    "root.config(menu = my_menu)\n",
    "\n",
    "file_menu = Menu(my_menu,tearoff = False)\n",
    "my_menu.add_cascade(label = \"File\",menu = file_menu)\n",
    "file_menu.add_command(label=\"Open\",command=open_pdf)\n",
    "file_menu.add_command(label=\"Clear\",command=clear_text_box)\n",
    "file_menu.add_separator()\n",
    "file_menu.add_command(label=\"Exit\",command=root.quit)\n",
    "\n",
    "\n",
    "root.mainloop()"
   ]
  },
  {
   "cell_type": "code",
   "execution_count": null,
   "id": "6ddff429",
   "metadata": {},
   "outputs": [],
   "source": []
  }
 ],
 "metadata": {
  "kernelspec": {
   "display_name": "Python 3",
   "language": "python",
   "name": "python3"
  },
  "language_info": {
   "codemirror_mode": {
    "name": "ipython",
    "version": 3
   },
   "file_extension": ".py",
   "mimetype": "text/x-python",
   "name": "python",
   "nbconvert_exporter": "python",
   "pygments_lexer": "ipython3",
   "version": "3.8.8"
  }
 },
 "nbformat": 4,
 "nbformat_minor": 5
}
