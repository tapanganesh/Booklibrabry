{
 "cells": [
  {
   "cell_type": "code",
   "execution_count": 5,
   "metadata": {},
   "outputs": [],
   "source": [
    "import os"
   ]
  },
  {
   "cell_type": "code",
   "execution_count": 6,
   "metadata": {},
   "outputs": [
    {
     "name": "stdout",
     "output_type": "stream",
     "text": [
      "Directory Created\n"
     ]
    }
   ],
   "source": [
    "directory=\"Chemistry\"\n",
    "parent_direct=\"C:/Users/ksdee/Desktop/CSE\"\n",
    "path=os.path.join(parent_direct,directory)\n",
    "os.mkdir(path)\n",
    "print(\"Directory Created\")"
   ]
  },
  {
   "cell_type": "code",
   "execution_count": 7,
   "metadata": {},
   "outputs": [
    {
     "name": "stdout",
     "output_type": "stream",
     "text": [
      "File Moved\n"
     ]
    }
   ],
   "source": [
    "import shutil\n",
    "source='C:/Users/ksdee/Desktop/CSE/Physics/Chapter 1.pdf'\n",
    "destination='C:/Users/ksdee/Desktop/CSE/Chemistry/Chapter 1.pdf'\n",
    "shutil.move(source,destination)\n",
    "print(\"File Moved\")"
   ]
  },
  {
   "cell_type": "code",
   "execution_count": null,
   "metadata": {},
   "outputs": [],
   "source": []
  }
 ],
 "metadata": {
  "kernelspec": {
   "display_name": "Python 3",
   "language": "python",
   "name": "python3"
  },
  "language_info": {
   "codemirror_mode": {
    "name": "ipython",
    "version": 3
   },
   "file_extension": ".py",
   "mimetype": "text/x-python",
   "name": "python",
   "nbconvert_exporter": "python",
   "pygments_lexer": "ipython3",
   "version": "3.8.5"
  }
 },
 "nbformat": 4,
 "nbformat_minor": 4
}
